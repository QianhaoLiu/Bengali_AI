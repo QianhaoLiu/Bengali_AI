{
  "nbformat": 4,
  "nbformat_minor": 0,
  "metadata": {
    "colab": {
      "name": "EDA Analysis.ipynb",
      "provenance": [],
      "collapsed_sections": [],
      "toc_visible": true
    },
    "kernelspec": {
      "name": "python3",
      "display_name": "Python 3"
    },
    "language_info": {
      "name": "python"
    }
  },
  "cells": [
    {
      "cell_type": "markdown",
      "metadata": {
        "id": "Gp5VzKPz_aXA"
      },
      "source": [
        "## EDA ##"
      ]
    },
    {
      "cell_type": "markdown",
      "metadata": {
        "id": "XRk4WDJvNhjo"
      },
      "source": [
        "Exploratory data analysis (EDA) is an approach to analyze data sets to summarize their main characteristics, mainly with visual methods."
      ]
    },
    {
      "cell_type": "code",
      "metadata": {
        "id": "0JW77mSgIFCm"
      },
      "source": [
        "#Import necessary libraries\n",
        "import pandas as pd\n",
        "import numpy as np"
      ],
      "execution_count": null,
      "outputs": []
    },
    {
      "cell_type": "code",
      "metadata": {
        "colab": {
          "base_uri": "https://localhost:8080/",
          "height": 198
        },
        "id": "uxdmFWYaspAF",
        "outputId": "8d2b5cf1-d95d-4283-f5f1-a101bf69fef3"
      },
      "source": [
        "#load dataset and class_map\n",
        "dataset = pd.read_csv('/content/train.csv'); \n",
        "class_map = pd.read_csv('/content/class_map.csv')\n",
        "dataset['base_graphemes'] = dataset['grapheme'].apply(tuple)\n",
        "dataset.head()"
      ],
      "execution_count": null,
      "outputs": [
        {
          "output_type": "execute_result",
          "data": {
            "text/html": [
              "<div>\n",
              "<style scoped>\n",
              "    .dataframe tbody tr th:only-of-type {\n",
              "        vertical-align: middle;\n",
              "    }\n",
              "\n",
              "    .dataframe tbody tr th {\n",
              "        vertical-align: top;\n",
              "    }\n",
              "\n",
              "    .dataframe thead th {\n",
              "        text-align: right;\n",
              "    }\n",
              "</style>\n",
              "<table border=\"1\" class=\"dataframe\">\n",
              "  <thead>\n",
              "    <tr style=\"text-align: right;\">\n",
              "      <th></th>\n",
              "      <th>image_id</th>\n",
              "      <th>grapheme_root</th>\n",
              "      <th>vowel_diacritic</th>\n",
              "      <th>consonant_diacritic</th>\n",
              "      <th>grapheme</th>\n",
              "      <th>base_graphemes</th>\n",
              "    </tr>\n",
              "  </thead>\n",
              "  <tbody>\n",
              "    <tr>\n",
              "      <th>0</th>\n",
              "      <td>Train_0</td>\n",
              "      <td>15</td>\n",
              "      <td>9</td>\n",
              "      <td>5</td>\n",
              "      <td>ক্ট্রো</td>\n",
              "      <td>(ক, ্, ট, ্, র, ো)</td>\n",
              "    </tr>\n",
              "    <tr>\n",
              "      <th>1</th>\n",
              "      <td>Train_1</td>\n",
              "      <td>159</td>\n",
              "      <td>0</td>\n",
              "      <td>0</td>\n",
              "      <td>হ</td>\n",
              "      <td>(হ,)</td>\n",
              "    </tr>\n",
              "    <tr>\n",
              "      <th>2</th>\n",
              "      <td>Train_2</td>\n",
              "      <td>22</td>\n",
              "      <td>3</td>\n",
              "      <td>5</td>\n",
              "      <td>খ্রী</td>\n",
              "      <td>(খ, ্, র, ী)</td>\n",
              "    </tr>\n",
              "    <tr>\n",
              "      <th>3</th>\n",
              "      <td>Train_3</td>\n",
              "      <td>53</td>\n",
              "      <td>2</td>\n",
              "      <td>2</td>\n",
              "      <td>র্টি</td>\n",
              "      <td>(র, ্, ট, ি)</td>\n",
              "    </tr>\n",
              "    <tr>\n",
              "      <th>4</th>\n",
              "      <td>Train_4</td>\n",
              "      <td>71</td>\n",
              "      <td>9</td>\n",
              "      <td>5</td>\n",
              "      <td>থ্রো</td>\n",
              "      <td>(থ, ্, র, ো)</td>\n",
              "    </tr>\n",
              "  </tbody>\n",
              "</table>\n",
              "</div>"
            ],
            "text/plain": [
              "  image_id  grapheme_root  ...  grapheme      base_graphemes\n",
              "0  Train_0             15  ...    ক্ট্রো  (ক, ্, ট, ্, র, ো)\n",
              "1  Train_1            159  ...         হ                (হ,)\n",
              "2  Train_2             22  ...      খ্রী        (খ, ্, র, ী)\n",
              "3  Train_3             53  ...      র্টি        (র, ্, ট, ি)\n",
              "4  Train_4             71  ...      থ্রো        (থ, ্, র, ো)\n",
              "\n",
              "[5 rows x 6 columns]"
            ]
          },
          "metadata": {
            "tags": []
          },
          "execution_count": 29
        }
      ]
    },
    {
      "cell_type": "markdown",
      "metadata": {
        "id": "aW6lI_KQOFu3"
      },
      "source": [
        "There are 168 grapheme roots, 11 vowel diacritics, 7 consonant diacritics, which consist 168*7*11 = 12936 types of theoretical grapheme combinations and 1295 unique graphemes within the 20k training dataset."
      ]
    },
    {
      "cell_type": "code",
      "metadata": {
        "colab": {
          "base_uri": "https://localhost:8080/"
        },
        "id": "ModJGtA4tlJp",
        "outputId": "6b281ae8-4745-4b06-dc03-3bb859f2b92e"
      },
      "source": [
        "unique = dataset.apply(lambda col: col.nunique()); unique"
      ],
      "execution_count": null,
      "outputs": [
        {
          "output_type": "execute_result",
          "data": {
            "text/plain": [
              "image_id               200840\n",
              "grapheme_root             168\n",
              "vowel_diacritic            11\n",
              "consonant_diacritic         7\n",
              "grapheme                 1295\n",
              "base_graphemes           1295\n",
              "dtype: int64"
            ]
          },
          "metadata": {
            "tags": []
          },
          "execution_count": 30
        }
      ]
    },
    {
      "cell_type": "code",
      "metadata": {
        "id": "wUJPn63eB2JJ"
      },
      "source": [
        "# Source: https://github.com/JamesMcGuigan/kaggle-digit-recognizer/blob/master/src/utils/confusion_matrix.py\n",
        "from typing import Union\n",
        "\n",
        "import pandas as pd\n",
        "from pandas.io.formats.style import Styler\n",
        "\n",
        "\n",
        "def combination_matrix(dataset: pd.DataFrame, x: str, y: str, z: str,\n",
        "                       format=None, unique=True) -> Union[pd.DataFrame, Styler]:\n",
        "    \"\"\"\n",
        "    Returns a combination matrix, showing all valid combinations between three DataFrame columns.\n",
        "    Sort of like a heatmap, but returning lists of (optionally) unique values\n",
        "\n",
        "    :param dataset: The dataframe to create a combination_matrx from\n",
        "    :param x: column name to use for the X axis\n",
        "    :param y: column name to use for the Y axis\n",
        "    :param z: column name to use for the Z axis (values that appear in the cells)\n",
        "    :param format: '', ', '-', ', '\\n'    = format value lists as \"\".join() string\n",
        "                    str, bool, int, float = cast value lists\n",
        "    :param unique:  whether to return only unique values or not - eg: combination_matrix(unique=False).applymap(sum)\n",
        "    :return: returns nothing\n",
        "    \"\"\"\n",
        "    unique_y = sorted(dataset[y].unique())\n",
        "    combinations = pd.DataFrame({\n",
        "        n: dataset.where(lambda df: df[y] == n)\n",
        "            .groupby(x)[z]\n",
        "            .pipe(lambda df: df.unique() if unique else df )\n",
        "            .apply(list)\n",
        "            .apply(sorted)\n",
        "        for n in unique_y\n",
        "    }).T\n",
        "\n",
        "    if isinstance(format, str):\n",
        "        combinations = combinations.applymap(\n",
        "            lambda cell: f\"{format}\".join([str(value) for value in list(cell) ])\n",
        "            if isinstance(cell, list) else cell\n",
        "        )\n",
        "    if format == str:   combinations = combinations.applymap(lambda cell: str(cell)      if isinstance(cell, list) and len(cell) > 0 else ''     )\n",
        "    if format == bool:  combinations = combinations.applymap(lambda cell: True           if isinstance(cell, list) and len(cell) > 0 else False  )\n",
        "    if format == int:   combinations = combinations.applymap(lambda cell: int(cell[0])   if isinstance(cell, list) and len(cell)     else ''     )\n",
        "    if format == float: combinations = combinations.applymap(lambda cell: float(cell[0]) if isinstance(cell, list) and len(cell)     else ''     )\n",
        "\n",
        "    combinations.index.rename(y, inplace=True)\n",
        "    combinations.fillna('', inplace=True)\n",
        "    if format == '\\n':\n",
        "        return combinations.style.set_properties(**{'white-space': 'pre-wrap'})  # needed for display\n",
        "    else:\n",
        "        return combinations  # Allows for subsequent .applymap()"
      ],
      "execution_count": null,
      "outputs": []
    },
    {
      "cell_type": "markdown",
      "metadata": {
        "id": "uj6zc7mEOuMs"
      },
      "source": [
        "However, all 12936 possibilities cannot show up, for some of combinations would never be used in practice, or it is impossible to pronounce it . \n",
        "We can find the combination patterns of vowel and consonant diactritic:\n",
        "\n",
        "1.Vowel #0 and consonant #0 cound combine with everything\n",
        "\n",
        "2.Vowels #3, #5, #6, #8 only combine with some of consonants\n",
        "\n",
        "3.Consonant #3 only combined with vowel #0\n",
        "\n",
        "4.Consonant #6 only combined with vowels #0 and #1"
      ]
    },
    {
      "cell_type": "code",
      "metadata": {
        "colab": {
          "base_uri": "https://localhost:8080/",
          "height": 408
        },
        "id": "to0sCiRcBpVO",
        "outputId": "91cf0f90-37a9-4455-c5c6-c2b5c92d6d42"
      },
      "source": [
        "combination_matrix(dataset, x='consonant_diacritic', y='vowel_diacritic', z='consonant_diacritic', unique=False).applymap(len)"
      ],
      "execution_count": null,
      "outputs": [
        {
          "output_type": "execute_result",
          "data": {
            "text/html": [
              "<div>\n",
              "<style scoped>\n",
              "    .dataframe tbody tr th:only-of-type {\n",
              "        vertical-align: middle;\n",
              "    }\n",
              "\n",
              "    .dataframe tbody tr th {\n",
              "        vertical-align: top;\n",
              "    }\n",
              "\n",
              "    .dataframe thead th {\n",
              "        text-align: right;\n",
              "    }\n",
              "</style>\n",
              "<table border=\"1\" class=\"dataframe\">\n",
              "  <thead>\n",
              "    <tr style=\"text-align: right;\">\n",
              "      <th>consonant_diacritic</th>\n",
              "      <th>0.0</th>\n",
              "      <th>1.0</th>\n",
              "      <th>2.0</th>\n",
              "      <th>3.0</th>\n",
              "      <th>4.0</th>\n",
              "      <th>5.0</th>\n",
              "      <th>6.0</th>\n",
              "    </tr>\n",
              "    <tr>\n",
              "      <th>vowel_diacritic</th>\n",
              "      <th></th>\n",
              "      <th></th>\n",
              "      <th></th>\n",
              "      <th></th>\n",
              "      <th></th>\n",
              "      <th></th>\n",
              "      <th></th>\n",
              "    </tr>\n",
              "  </thead>\n",
              "  <tbody>\n",
              "    <tr>\n",
              "      <th>0</th>\n",
              "      <td>23960</td>\n",
              "      <td>768</td>\n",
              "      <td>6262</td>\n",
              "      <td>619</td>\n",
              "      <td>5413</td>\n",
              "      <td>4180</td>\n",
              "      <td>306</td>\n",
              "    </tr>\n",
              "    <tr>\n",
              "      <th>1</th>\n",
              "      <td>18799</td>\n",
              "      <td>2843</td>\n",
              "      <td>3838</td>\n",
              "      <td>0</td>\n",
              "      <td>6573</td>\n",
              "      <td>3752</td>\n",
              "      <td>1081</td>\n",
              "    </tr>\n",
              "    <tr>\n",
              "      <th>2</th>\n",
              "      <td>17449</td>\n",
              "      <td>464</td>\n",
              "      <td>3764</td>\n",
              "      <td>0</td>\n",
              "      <td>1255</td>\n",
              "      <td>3035</td>\n",
              "      <td>0</td>\n",
              "    </tr>\n",
              "    <tr>\n",
              "      <th>3</th>\n",
              "      <td>11391</td>\n",
              "      <td>0</td>\n",
              "      <td>2290</td>\n",
              "      <td>0</td>\n",
              "      <td>0</td>\n",
              "      <td>2471</td>\n",
              "      <td>0</td>\n",
              "    </tr>\n",
              "    <tr>\n",
              "      <th>4</th>\n",
              "      <td>11832</td>\n",
              "      <td>1215</td>\n",
              "      <td>1563</td>\n",
              "      <td>0</td>\n",
              "      <td>2206</td>\n",
              "      <td>2032</td>\n",
              "      <td>0</td>\n",
              "    </tr>\n",
              "    <tr>\n",
              "      <th>5</th>\n",
              "      <td>3794</td>\n",
              "      <td>0</td>\n",
              "      <td>297</td>\n",
              "      <td>0</td>\n",
              "      <td>784</td>\n",
              "      <td>422</td>\n",
              "      <td>0</td>\n",
              "    </tr>\n",
              "    <tr>\n",
              "      <th>6</th>\n",
              "      <td>3873</td>\n",
              "      <td>0</td>\n",
              "      <td>463</td>\n",
              "      <td>0</td>\n",
              "      <td>0</td>\n",
              "      <td>0</td>\n",
              "      <td>0</td>\n",
              "    </tr>\n",
              "    <tr>\n",
              "      <th>7</th>\n",
              "      <td>16991</td>\n",
              "      <td>1197</td>\n",
              "      <td>3778</td>\n",
              "      <td>0</td>\n",
              "      <td>4072</td>\n",
              "      <td>2685</td>\n",
              "      <td>0</td>\n",
              "    </tr>\n",
              "    <tr>\n",
              "      <th>8</th>\n",
              "      <td>3210</td>\n",
              "      <td>0</td>\n",
              "      <td>0</td>\n",
              "      <td>0</td>\n",
              "      <td>167</td>\n",
              "      <td>151</td>\n",
              "      <td>0</td>\n",
              "    </tr>\n",
              "    <tr>\n",
              "      <th>9</th>\n",
              "      <td>10727</td>\n",
              "      <td>774</td>\n",
              "      <td>1210</td>\n",
              "      <td>0</td>\n",
              "      <td>800</td>\n",
              "      <td>2521</td>\n",
              "      <td>0</td>\n",
              "    </tr>\n",
              "    <tr>\n",
              "      <th>10</th>\n",
              "      <td>3252</td>\n",
              "      <td>163</td>\n",
              "      <td>0</td>\n",
              "      <td>0</td>\n",
              "      <td>0</td>\n",
              "      <td>148</td>\n",
              "      <td>0</td>\n",
              "    </tr>\n",
              "  </tbody>\n",
              "</table>\n",
              "</div>"
            ],
            "text/plain": [
              "consonant_diacritic    0.0   1.0   2.0  3.0   4.0   5.0   6.0\n",
              "vowel_diacritic                                              \n",
              "0                    23960   768  6262  619  5413  4180   306\n",
              "1                    18799  2843  3838    0  6573  3752  1081\n",
              "2                    17449   464  3764    0  1255  3035     0\n",
              "3                    11391     0  2290    0     0  2471     0\n",
              "4                    11832  1215  1563    0  2206  2032     0\n",
              "5                     3794     0   297    0   784   422     0\n",
              "6                     3873     0   463    0     0     0     0\n",
              "7                    16991  1197  3778    0  4072  2685     0\n",
              "8                     3210     0     0    0   167   151     0\n",
              "9                    10727   774  1210    0   800  2521     0\n",
              "10                    3252   163     0    0     0   148     0"
            ]
          },
          "metadata": {
            "tags": []
          },
          "execution_count": 6
        }
      ]
    },
    {
      "cell_type": "markdown",
      "metadata": {
        "id": "fxvE7ueaPQiw"
      },
      "source": [
        "There are also some root_grapheme and vowel/consonant patterns discovered from below:\n",
        "\n",
        "1.Vowel #0 and Consonant #0 combine with (nearly) everything,\n",
        "\n",
        "2.ALL Roots combine with some Consonant #0\n",
        "\n",
        "3.Several Roots do NOT combine with Vowel #0 = [26, 28, 33, 34, 73, 82, 108, 114, 126, 152, 157, 158, 163]\n",
        "\n",
        "4.Several Roots do combine ALL Vowels = [13, 23, 64, 72, 79, 81, 96, 107, 113, 115, 133, 147]\n",
        "\n",
        "5.Only Root #107 combines with ALL Consonants"
      ]
    },
    {
      "cell_type": "code",
      "metadata": {
        "colab": {
          "base_uri": "https://localhost:8080/",
          "height": 804
        },
        "id": "45zmYUdY-tgI",
        "outputId": "1c7a9f95-2c61-4abf-ab79-a71a55eeb944"
      },
      "source": [
        "root_vowels            = dataset.groupby('grapheme_root')['vowel_diacritic'].unique().apply(sorted).to_frame().T\n",
        "root_consonants        = dataset.groupby('grapheme_root')['consonant_diacritic'].unique().apply(sorted).to_frame().T\n",
        "root_vowels_values     = root_vowels.applymap(len).values.flatten()\n",
        "root_consonants_values = root_consonants.applymap(len).values.flatten()\n",
        "\n",
        "display(root_vowels)\n",
        "display({\n",
        "    \"mean\":   root_vowels_values.mean(),\n",
        "    \"median\": np.median( root_vowels_values ),\n",
        "    \"min\":    root_vowels_values.min(),\n",
        "    \"max\":    root_vowels_values.max(),\n",
        "    \"unique_vowels\":    unique['vowel_diacritic'],\n",
        "    \"root_combine_0\":   sum([ 0 in lst for lst in root_vowels.values.flatten() ]),\n",
        "    \"unique_roots\":     unique['grapheme_root'],\n",
        "    \"root_combine_not_0\": str([ index for index, lst in enumerate(root_vowels.values.flatten()) if 0 not in lst ]),    \n",
        "    \"root_combine_all\":       [ index for index, lst in enumerate(root_vowels.values.flatten()) if len(lst) == unique['vowel_diacritic'] ],\n",
        "})\n",
        "# print('--------------------')\n",
        "display(root_consonants)\n",
        "display({\n",
        "    \"mean\":   root_consonants_values.mean(),\n",
        "    \"median\": np.median( root_consonants_values ),\n",
        "    \"min\":    root_consonants_values.min(),\n",
        "    \"max\":    root_consonants_values.max(),\n",
        "    \"unique_consonants\":  unique['consonant_diacritic'],\n",
        "    \"root_combine_0\": sum([ 0 in lst for lst in root_consonants.values.flatten() ]),\n",
        "    \"unique_roots\":   unique['grapheme_root'],\n",
        "    \"root_combine_not_0\": str([ index for index, lst in enumerate(root_consonants.values.flatten()) if 0 not in lst ]),        \n",
        "    \"root_combine_all\":       [ index for index, lst in enumerate(root_consonants.values.flatten()) if len(lst) == unique['consonant_diacritic'] ],\n",
        "})"
      ],
      "execution_count": null,
      "outputs": [
        {
          "output_type": "display_data",
          "data": {
            "text/html": [
              "<div>\n",
              "<style scoped>\n",
              "    .dataframe tbody tr th:only-of-type {\n",
              "        vertical-align: middle;\n",
              "    }\n",
              "\n",
              "    .dataframe tbody tr th {\n",
              "        vertical-align: top;\n",
              "    }\n",
              "\n",
              "    .dataframe thead th {\n",
              "        text-align: right;\n",
              "    }\n",
              "</style>\n",
              "<table border=\"1\" class=\"dataframe\">\n",
              "  <thead>\n",
              "    <tr style=\"text-align: right;\">\n",
              "      <th>grapheme_root</th>\n",
              "      <th>0</th>\n",
              "      <th>1</th>\n",
              "      <th>2</th>\n",
              "      <th>3</th>\n",
              "      <th>4</th>\n",
              "      <th>5</th>\n",
              "      <th>6</th>\n",
              "      <th>7</th>\n",
              "      <th>8</th>\n",
              "      <th>9</th>\n",
              "      <th>10</th>\n",
              "      <th>11</th>\n",
              "      <th>12</th>\n",
              "      <th>13</th>\n",
              "      <th>14</th>\n",
              "      <th>15</th>\n",
              "      <th>16</th>\n",
              "      <th>17</th>\n",
              "      <th>18</th>\n",
              "      <th>19</th>\n",
              "      <th>20</th>\n",
              "      <th>21</th>\n",
              "      <th>22</th>\n",
              "      <th>23</th>\n",
              "      <th>24</th>\n",
              "      <th>25</th>\n",
              "      <th>26</th>\n",
              "      <th>27</th>\n",
              "      <th>28</th>\n",
              "      <th>29</th>\n",
              "      <th>30</th>\n",
              "      <th>31</th>\n",
              "      <th>32</th>\n",
              "      <th>33</th>\n",
              "      <th>34</th>\n",
              "      <th>35</th>\n",
              "      <th>36</th>\n",
              "      <th>37</th>\n",
              "      <th>38</th>\n",
              "      <th>39</th>\n",
              "      <th>...</th>\n",
              "      <th>128</th>\n",
              "      <th>129</th>\n",
              "      <th>130</th>\n",
              "      <th>131</th>\n",
              "      <th>132</th>\n",
              "      <th>133</th>\n",
              "      <th>134</th>\n",
              "      <th>135</th>\n",
              "      <th>136</th>\n",
              "      <th>137</th>\n",
              "      <th>138</th>\n",
              "      <th>139</th>\n",
              "      <th>140</th>\n",
              "      <th>141</th>\n",
              "      <th>142</th>\n",
              "      <th>143</th>\n",
              "      <th>144</th>\n",
              "      <th>145</th>\n",
              "      <th>146</th>\n",
              "      <th>147</th>\n",
              "      <th>148</th>\n",
              "      <th>149</th>\n",
              "      <th>150</th>\n",
              "      <th>151</th>\n",
              "      <th>152</th>\n",
              "      <th>153</th>\n",
              "      <th>154</th>\n",
              "      <th>155</th>\n",
              "      <th>156</th>\n",
              "      <th>157</th>\n",
              "      <th>158</th>\n",
              "      <th>159</th>\n",
              "      <th>160</th>\n",
              "      <th>161</th>\n",
              "      <th>162</th>\n",
              "      <th>163</th>\n",
              "      <th>164</th>\n",
              "      <th>165</th>\n",
              "      <th>166</th>\n",
              "      <th>167</th>\n",
              "    </tr>\n",
              "  </thead>\n",
              "  <tbody>\n",
              "    <tr>\n",
              "      <th>vowel_diacritic</th>\n",
              "      <td>[0]</td>\n",
              "      <td>[0]</td>\n",
              "      <td>[0, 1]</td>\n",
              "      <td>[0]</td>\n",
              "      <td>[0]</td>\n",
              "      <td>[0]</td>\n",
              "      <td>[0]</td>\n",
              "      <td>[0]</td>\n",
              "      <td>[0]</td>\n",
              "      <td>[0, 1]</td>\n",
              "      <td>[0]</td>\n",
              "      <td>[0]</td>\n",
              "      <td>[0]</td>\n",
              "      <td>[0, 1, 2, 3, 4, 5, 6, 7, 8, 9, 10]</td>\n",
              "      <td>[0, 1, 2, 7, 9]</td>\n",
              "      <td>[0, 1, 2, 7, 9]</td>\n",
              "      <td>[0, 1, 2, 6, 7, 9]</td>\n",
              "      <td>[0, 1, 2, 7, 9]</td>\n",
              "      <td>[0, 1, 2, 3, 4, 7, 9, 10]</td>\n",
              "      <td>[0, 10]</td>\n",
              "      <td>[0, 3]</td>\n",
              "      <td>[0, 1, 2, 3, 7]</td>\n",
              "      <td>[0, 1, 2, 3, 4, 6, 7, 8, 9]</td>\n",
              "      <td>[0, 1, 2, 3, 4, 5, 6, 7, 8, 9, 10]</td>\n",
              "      <td>[0, 1]</td>\n",
              "      <td>[0, 1, 2, 3, 4, 7]</td>\n",
              "      <td>[7]</td>\n",
              "      <td>[0, 2]</td>\n",
              "      <td>[1, 2, 4, 9]</td>\n",
              "      <td>[0, 1, 2, 4, 5, 6, 7, 9]</td>\n",
              "      <td>[0, 2, 7]</td>\n",
              "      <td>[0, 1, 2, 4, 7]</td>\n",
              "      <td>[0, 1, 2, 3, 4, 6, 7, 9]</td>\n",
              "      <td>[2]</td>\n",
              "      <td>[1, 2]</td>\n",
              "      <td>[0, 1, 2]</td>\n",
              "      <td>[0, 1, 2, 3, 4, 7, 9]</td>\n",
              "      <td>[0, 2]</td>\n",
              "      <td>[0, 1, 2, 3, 4, 5, 7, 8, 9, 10]</td>\n",
              "      <td>[0, 1, 2, 4]</td>\n",
              "      <td>...</td>\n",
              "      <td>[0, 1, 2, 7, 9]</td>\n",
              "      <td>[0, 1, 2, 3, 7, 9]</td>\n",
              "      <td>[0]</td>\n",
              "      <td>[0, 2, 7]</td>\n",
              "      <td>[0, 1, 2, 3, 4, 7, 9]</td>\n",
              "      <td>[0, 1, 2, 3, 4, 5, 6, 7, 8, 9, 10]</td>\n",
              "      <td>[0, 1, 2, 4]</td>\n",
              "      <td>[0, 1, 7, 9]</td>\n",
              "      <td>[0, 1, 2, 7]</td>\n",
              "      <td>[0, 2, 3, 7]</td>\n",
              "      <td>[0, 2, 3, 4, 7, 9]</td>\n",
              "      <td>[0, 1, 2, 3, 4, 7, 9]</td>\n",
              "      <td>[0, 1, 2, 3, 6, 7]</td>\n",
              "      <td>[0, 1, 2, 3, 4, 7]</td>\n",
              "      <td>[0, 1, 2, 3, 4, 7]</td>\n",
              "      <td>[0, 1, 4, 7]</td>\n",
              "      <td>[0, 1, 7]</td>\n",
              "      <td>[0, 9]</td>\n",
              "      <td>[0, 7]</td>\n",
              "      <td>[0, 1, 2, 3, 4, 5, 6, 7, 8, 9, 10]</td>\n",
              "      <td>[0, 1, 2, 4, 6, 7, 9]</td>\n",
              "      <td>[0, 1, 2, 3, 4, 7, 9]</td>\n",
              "      <td>[0, 1, 2, 3, 4, 5, 6, 7, 9]</td>\n",
              "      <td>[0, 1, 2, 5, 7]</td>\n",
              "      <td>[1, 2, 7, 9]</td>\n",
              "      <td>[0, 1, 2, 3, 6, 7, 9]</td>\n",
              "      <td>[0, 3, 4, 5, 9]</td>\n",
              "      <td>[0, 1, 2, 3, 7, 8]</td>\n",
              "      <td>[0, 1, 2, 3, 6]</td>\n",
              "      <td>[1, 9]</td>\n",
              "      <td>[4]</td>\n",
              "      <td>[0, 1, 2, 3, 4, 5, 6, 7, 8, 9]</td>\n",
              "      <td>[0, 2, 7]</td>\n",
              "      <td>[0, 1]</td>\n",
              "      <td>[0, 1, 3]</td>\n",
              "      <td>[1]</td>\n",
              "      <td>[0]</td>\n",
              "      <td>[0, 1, 2, 3, 4, 7, 9]</td>\n",
              "      <td>[0, 7]</td>\n",
              "      <td>[0, 1, 2, 3, 4, 5, 7, 9]</td>\n",
              "    </tr>\n",
              "  </tbody>\n",
              "</table>\n",
              "<p>1 rows × 168 columns</p>\n",
              "</div>"
            ],
            "text/plain": [
              "grapheme_root    0    1    ...     166                       167\n",
              "vowel_diacritic  [0]  [0]  ...  [0, 7]  [0, 1, 2, 3, 4, 5, 7, 9]\n",
              "\n",
              "[1 rows x 168 columns]"
            ]
          },
          "metadata": {
            "tags": []
          }
        },
        {
          "output_type": "display_data",
          "data": {
            "text/plain": [
              "{'max': 11,\n",
              " 'mean': 4.869047619047619,\n",
              " 'median': 5.0,\n",
              " 'min': 1,\n",
              " 'root_combine_0': 155,\n",
              " 'root_combine_all': [13, 23, 64, 72, 79, 81, 96, 107, 113, 115, 133, 147],\n",
              " 'root_combine_not_0': '[26, 28, 33, 34, 73, 82, 108, 114, 126, 152, 157, 158, 163]',\n",
              " 'unique_roots': 168,\n",
              " 'unique_vowels': 11}"
            ]
          },
          "metadata": {
            "tags": []
          }
        },
        {
          "output_type": "display_data",
          "data": {
            "text/html": [
              "<div>\n",
              "<style scoped>\n",
              "    .dataframe tbody tr th:only-of-type {\n",
              "        vertical-align: middle;\n",
              "    }\n",
              "\n",
              "    .dataframe tbody tr th {\n",
              "        vertical-align: top;\n",
              "    }\n",
              "\n",
              "    .dataframe thead th {\n",
              "        text-align: right;\n",
              "    }\n",
              "</style>\n",
              "<table border=\"1\" class=\"dataframe\">\n",
              "  <thead>\n",
              "    <tr style=\"text-align: right;\">\n",
              "      <th>grapheme_root</th>\n",
              "      <th>0</th>\n",
              "      <th>1</th>\n",
              "      <th>2</th>\n",
              "      <th>3</th>\n",
              "      <th>4</th>\n",
              "      <th>5</th>\n",
              "      <th>6</th>\n",
              "      <th>7</th>\n",
              "      <th>8</th>\n",
              "      <th>9</th>\n",
              "      <th>10</th>\n",
              "      <th>11</th>\n",
              "      <th>12</th>\n",
              "      <th>13</th>\n",
              "      <th>14</th>\n",
              "      <th>15</th>\n",
              "      <th>16</th>\n",
              "      <th>17</th>\n",
              "      <th>18</th>\n",
              "      <th>19</th>\n",
              "      <th>20</th>\n",
              "      <th>21</th>\n",
              "      <th>22</th>\n",
              "      <th>23</th>\n",
              "      <th>24</th>\n",
              "      <th>25</th>\n",
              "      <th>26</th>\n",
              "      <th>27</th>\n",
              "      <th>28</th>\n",
              "      <th>29</th>\n",
              "      <th>30</th>\n",
              "      <th>31</th>\n",
              "      <th>32</th>\n",
              "      <th>33</th>\n",
              "      <th>34</th>\n",
              "      <th>35</th>\n",
              "      <th>36</th>\n",
              "      <th>37</th>\n",
              "      <th>38</th>\n",
              "      <th>39</th>\n",
              "      <th>...</th>\n",
              "      <th>128</th>\n",
              "      <th>129</th>\n",
              "      <th>130</th>\n",
              "      <th>131</th>\n",
              "      <th>132</th>\n",
              "      <th>133</th>\n",
              "      <th>134</th>\n",
              "      <th>135</th>\n",
              "      <th>136</th>\n",
              "      <th>137</th>\n",
              "      <th>138</th>\n",
              "      <th>139</th>\n",
              "      <th>140</th>\n",
              "      <th>141</th>\n",
              "      <th>142</th>\n",
              "      <th>143</th>\n",
              "      <th>144</th>\n",
              "      <th>145</th>\n",
              "      <th>146</th>\n",
              "      <th>147</th>\n",
              "      <th>148</th>\n",
              "      <th>149</th>\n",
              "      <th>150</th>\n",
              "      <th>151</th>\n",
              "      <th>152</th>\n",
              "      <th>153</th>\n",
              "      <th>154</th>\n",
              "      <th>155</th>\n",
              "      <th>156</th>\n",
              "      <th>157</th>\n",
              "      <th>158</th>\n",
              "      <th>159</th>\n",
              "      <th>160</th>\n",
              "      <th>161</th>\n",
              "      <th>162</th>\n",
              "      <th>163</th>\n",
              "      <th>164</th>\n",
              "      <th>165</th>\n",
              "      <th>166</th>\n",
              "      <th>167</th>\n",
              "    </tr>\n",
              "  </thead>\n",
              "  <tbody>\n",
              "    <tr>\n",
              "      <th>consonant_diacritic</th>\n",
              "      <td>[0]</td>\n",
              "      <td>[0]</td>\n",
              "      <td>[0, 4]</td>\n",
              "      <td>[0, 1]</td>\n",
              "      <td>[0, 1]</td>\n",
              "      <td>[0]</td>\n",
              "      <td>[0, 1]</td>\n",
              "      <td>[0]</td>\n",
              "      <td>[0]</td>\n",
              "      <td>[0, 1, 4]</td>\n",
              "      <td>[0]</td>\n",
              "      <td>[0]</td>\n",
              "      <td>[0]</td>\n",
              "      <td>[0, 1, 2, 4, 5, 6]</td>\n",
              "      <td>[0]</td>\n",
              "      <td>[0, 5]</td>\n",
              "      <td>[0]</td>\n",
              "      <td>[0]</td>\n",
              "      <td>[0, 4]</td>\n",
              "      <td>[0]</td>\n",
              "      <td>[0]</td>\n",
              "      <td>[0, 2]</td>\n",
              "      <td>[0, 1, 2, 4, 5]</td>\n",
              "      <td>[0, 1, 2, 4, 5, 6]</td>\n",
              "      <td>[0]</td>\n",
              "      <td>[0, 4]</td>\n",
              "      <td>[0]</td>\n",
              "      <td>[0]</td>\n",
              "      <td>[0, 4]</td>\n",
              "      <td>[0, 1, 2, 3, 4, 5]</td>\n",
              "      <td>[0]</td>\n",
              "      <td>[0]</td>\n",
              "      <td>[0]</td>\n",
              "      <td>[0]</td>\n",
              "      <td>[0]</td>\n",
              "      <td>[0]</td>\n",
              "      <td>[0]</td>\n",
              "      <td>[0]</td>\n",
              "      <td>[0, 1, 2, 4]</td>\n",
              "      <td>[0]</td>\n",
              "      <td>...</td>\n",
              "      <td>[0, 2]</td>\n",
              "      <td>[0]</td>\n",
              "      <td>[0]</td>\n",
              "      <td>[0]</td>\n",
              "      <td>[0]</td>\n",
              "      <td>[0, 2, 4, 5]</td>\n",
              "      <td>[0]</td>\n",
              "      <td>[0]</td>\n",
              "      <td>[0, 2]</td>\n",
              "      <td>[0]</td>\n",
              "      <td>[0]</td>\n",
              "      <td>[0, 2, 4]</td>\n",
              "      <td>[0, 5]</td>\n",
              "      <td>[0, 4, 5]</td>\n",
              "      <td>[0, 4]</td>\n",
              "      <td>[0]</td>\n",
              "      <td>[0, 5]</td>\n",
              "      <td>[0]</td>\n",
              "      <td>[0]</td>\n",
              "      <td>[0, 1, 2, 4, 5]</td>\n",
              "      <td>[0, 4, 5]</td>\n",
              "      <td>[0, 2, 4, 5, 6]</td>\n",
              "      <td>[0, 5]</td>\n",
              "      <td>[0, 2, 4]</td>\n",
              "      <td>[0]</td>\n",
              "      <td>[0, 4, 5]</td>\n",
              "      <td>[0]</td>\n",
              "      <td>[0]</td>\n",
              "      <td>[0]</td>\n",
              "      <td>[0]</td>\n",
              "      <td>[0]</td>\n",
              "      <td>[0, 1, 2, 4, 5]</td>\n",
              "      <td>[0]</td>\n",
              "      <td>[0]</td>\n",
              "      <td>[0]</td>\n",
              "      <td>[0]</td>\n",
              "      <td>[0]</td>\n",
              "      <td>[0]</td>\n",
              "      <td>[0]</td>\n",
              "      <td>[0, 4]</td>\n",
              "    </tr>\n",
              "  </tbody>\n",
              "</table>\n",
              "<p>1 rows × 168 columns</p>\n",
              "</div>"
            ],
            "text/plain": [
              "grapheme_root        0    1       2       3    ...  164  165  166     167\n",
              "consonant_diacritic  [0]  [0]  [0, 4]  [0, 1]  ...  [0]  [0]  [0]  [0, 4]\n",
              "\n",
              "[1 rows x 168 columns]"
            ]
          },
          "metadata": {
            "tags": []
          }
        },
        {
          "output_type": "display_data",
          "data": {
            "text/plain": [
              "{'max': 7,\n",
              " 'mean': 1.9583333333333333,\n",
              " 'median': 1.0,\n",
              " 'min': 1,\n",
              " 'root_combine_0': 168,\n",
              " 'root_combine_all': [107],\n",
              " 'root_combine_not_0': '[]',\n",
              " 'unique_consonants': 7,\n",
              " 'unique_roots': 168}"
            ]
          },
          "metadata": {
            "tags": []
          }
        }
      ]
    },
    {
      "cell_type": "markdown",
      "metadata": {
        "id": "XuXtRBlUP55S"
      },
      "source": [
        "When exploring the combination of root,vowel and consonant, we found that there are only 1292 combinations in the dataset, while there are 1295 unique graphemes in the training dataset, so there must be some duplicates. "
      ]
    },
    {
      "cell_type": "code",
      "metadata": {
        "colab": {
          "base_uri": "https://localhost:8080/"
        },
        "id": "sV-dNvjq_AVN",
        "outputId": "a59b1cab-f24b-4604-8d53-769ae8437e00"
      },
      "source": [
        "from itertools import chain\n",
        "{\n",
        "    \"combinations\": len(list(chain( \n",
        "        *combination_matrix(dataset, x='consonant_diacritic', y='vowel_diacritic', z='grapheme_root')\n",
        "        .values.flatten() \n",
        "    ))),\n",
        "    \"unique_graphemes\": unique['grapheme']\n",
        "}"
      ],
      "execution_count": null,
      "outputs": [
        {
          "output_type": "execute_result",
          "data": {
            "text/plain": [
              "{'combinations': 1292, 'unique_graphemes': 1295}"
            ]
          },
          "metadata": {
            "tags": []
          },
          "execution_count": 10
        }
      ]
    },
    {
      "cell_type": "markdown",
      "metadata": {
        "id": "Z9RjdnoE_qHp"
      },
      "source": [
        "Here we want to see which combinations have multiple rendering that cause the difference above, we found that these were\n",
        "\n",
        "{'64-3-2': ['র্তী', 'র্ত্রী'], '64-7-2': ['র্তে', 'র্ত্রে'], '72-0-2': ['র্দ্র', 'র্দ']}"
      ]
    },
    {
      "cell_type": "code",
      "metadata": {
        "colab": {
          "base_uri": "https://localhost:8080/",
          "height": 168
        },
        "id": "IjDIJkEo_nUo",
        "outputId": "f0a4ce2b-cf0d-4ce8-c5c9-8806e3214b3e"
      },
      "source": [
        "( \n",
        "    dataset\n",
        "    .groupby(['grapheme_root', 'vowel_diacritic', 'consonant_diacritic'])\n",
        "    .nunique(dropna=False) > 1\n",
        ").query(\"grapheme != False\")"
      ],
      "execution_count": null,
      "outputs": [
        {
          "output_type": "execute_result",
          "data": {
            "text/html": [
              "<div>\n",
              "<style scoped>\n",
              "    .dataframe tbody tr th:only-of-type {\n",
              "        vertical-align: middle;\n",
              "    }\n",
              "\n",
              "    .dataframe tbody tr th {\n",
              "        vertical-align: top;\n",
              "    }\n",
              "\n",
              "    .dataframe thead th {\n",
              "        text-align: right;\n",
              "    }\n",
              "</style>\n",
              "<table border=\"1\" class=\"dataframe\">\n",
              "  <thead>\n",
              "    <tr style=\"text-align: right;\">\n",
              "      <th></th>\n",
              "      <th></th>\n",
              "      <th></th>\n",
              "      <th>image_id</th>\n",
              "      <th>grapheme</th>\n",
              "      <th>base_graphemes</th>\n",
              "    </tr>\n",
              "    <tr>\n",
              "      <th>grapheme_root</th>\n",
              "      <th>vowel_diacritic</th>\n",
              "      <th>consonant_diacritic</th>\n",
              "      <th></th>\n",
              "      <th></th>\n",
              "      <th></th>\n",
              "    </tr>\n",
              "  </thead>\n",
              "  <tbody>\n",
              "    <tr>\n",
              "      <th rowspan=\"2\" valign=\"top\">64</th>\n",
              "      <th>3</th>\n",
              "      <th>2</th>\n",
              "      <td>True</td>\n",
              "      <td>True</td>\n",
              "      <td>True</td>\n",
              "    </tr>\n",
              "    <tr>\n",
              "      <th>7</th>\n",
              "      <th>2</th>\n",
              "      <td>True</td>\n",
              "      <td>True</td>\n",
              "      <td>True</td>\n",
              "    </tr>\n",
              "    <tr>\n",
              "      <th>72</th>\n",
              "      <th>0</th>\n",
              "      <th>2</th>\n",
              "      <td>True</td>\n",
              "      <td>True</td>\n",
              "      <td>True</td>\n",
              "    </tr>\n",
              "  </tbody>\n",
              "</table>\n",
              "</div>"
            ],
            "text/plain": [
              "                                                   image_id  ...  base_graphemes\n",
              "grapheme_root vowel_diacritic consonant_diacritic            ...                \n",
              "64            3               2                        True  ...            True\n",
              "              7               2                        True  ...            True\n",
              "72            0               2                        True  ...            True\n",
              "\n",
              "[3 rows x 3 columns]"
            ]
          },
          "metadata": {
            "tags": []
          },
          "execution_count": 11
        }
      ]
    },
    {
      "cell_type": "code",
      "metadata": {
        "colab": {
          "base_uri": "https://localhost:8080/"
        },
        "id": "42bFuehxASXr",
        "outputId": "d0944f1e-2ba6-4a5d-98d8-b917ad9d560f"
      },
      "source": [
        "multilabled_graphemes = {\n",
        "    \"64-3-2\": dataset.query(\"grapheme_root == 64 & vowel_diacritic == 3 & consonant_diacritic == 2\")['grapheme'].unique().tolist(),\n",
        "    \"64-7-2\": dataset.query(\"grapheme_root == 64 & vowel_diacritic == 7 & consonant_diacritic == 2\")['grapheme'].unique().tolist(),\n",
        "    \"72-0-2\": dataset.query(\"grapheme_root == 72 & vowel_diacritic == 0 & consonant_diacritic == 2\")['grapheme'].unique().tolist(),\n",
        "}\n",
        "multilabled_graphemes"
      ],
      "execution_count": null,
      "outputs": [
        {
          "output_type": "execute_result",
          "data": {
            "text/plain": [
              "{'64-3-2': ['র্তী', 'র্ত্রী'],\n",
              " '64-7-2': ['র্তে', 'র্ত্রে'],\n",
              " '72-0-2': ['র্দ্র', 'র্দ']}"
            ]
          },
          "metadata": {
            "tags": []
          },
          "execution_count": 12
        }
      ]
    },
    {
      "cell_type": "markdown",
      "metadata": {
        "id": "2td7-uvcSFfq"
      },
      "source": [
        "Here we want to count the appearances of these combination graphemes, and the result shows that they do not show up frequently. However, this is a \"one to many\" reflection so it won't influence much of the evaluation result."
      ]
    },
    {
      "cell_type": "code",
      "metadata": {
        "colab": {
          "base_uri": "https://localhost:8080/"
        },
        "id": "LJmMUxjjALTl",
        "outputId": "9eec4ea0-27d8-492b-9680-68fead415673"
      },
      "source": [
        "dataset[ dataset['grapheme'].isin(multilabled_grapheme_list) ].groupby(['grapheme']).count()['image_id'].to_dict()"
      ],
      "execution_count": null,
      "outputs": [
        {
          "output_type": "execute_result",
          "data": {
            "text/plain": [
              "{'র্তী': 144,\n",
              " 'র্তে': 153,\n",
              " 'র্ত্রী': 145,\n",
              " 'র্ত্রে': 150,\n",
              " 'র্দ': 146,\n",
              " 'র্দ্র': 151}"
            ]
          },
          "metadata": {
            "tags": []
          },
          "execution_count": 14
        }
      ]
    },
    {
      "cell_type": "markdown",
      "metadata": {
        "id": "8hyouG9fSarZ"
      },
      "source": [
        "Then, we want to get the top 10 and bottom 10 grapheme_root and top 5 vowel/consonant diacritic components."
      ]
    },
    {
      "cell_type": "code",
      "metadata": {
        "id": "lrG0SzI8MTYe"
      },
      "source": [
        "HEIGHT = 236\n",
        "WIDTH = 236\n",
        "\n",
        "def get_n(df, field, n, top=True):\n",
        "    top_graphemes = df.groupby([field]).size().reset_index(name='counts')['counts'].sort_values(ascending=not top)[:n]\n",
        "    top_grapheme_roots = top_graphemes.index\n",
        "    top_grapheme_counts = top_graphemes.values\n",
        "    top_graphemes = class_map[class_map['component_type'] == field].reset_index().iloc[top_grapheme_roots]\n",
        "    top_graphemes.drop(['component_type', 'label'], axis=1, inplace=True)\n",
        "    top_graphemes.loc[:, 'count'] = top_grapheme_counts\n",
        "    return top_graphemes\n",
        "\n",
        "def image_from_char(char):\n",
        "    image = Image.new('RGB', (WIDTH, HEIGHT))\n",
        "    draw = ImageDraw.Draw(image)\n",
        "    myfont = ImageFont.truetype('/kaggle/input/kalpurush-fonts/kalpurush-2.ttf', 120)\n",
        "    w, h = draw.textsize(char, font=myfont)\n",
        "    draw.text(((WIDTH - w) / 2,(HEIGHT - h) / 3), char, font=myfont)\n",
        "\n",
        "    return image"
      ],
      "execution_count": null,
      "outputs": []
    },
    {
      "cell_type": "code",
      "metadata": {
        "colab": {
          "base_uri": "https://localhost:8080/",
          "height": 348
        },
        "id": "T0ewY9yGAn_4",
        "outputId": "5ba3cd3e-c35d-4bb7-b1a4-fe200fc6a171"
      },
      "source": [
        "top_10_roots = get_n(dataset, 'grapheme_root', 10)\n",
        "top_10_roots"
      ],
      "execution_count": null,
      "outputs": [
        {
          "output_type": "execute_result",
          "data": {
            "text/html": [
              "<div>\n",
              "<style scoped>\n",
              "    .dataframe tbody tr th:only-of-type {\n",
              "        vertical-align: middle;\n",
              "    }\n",
              "\n",
              "    .dataframe tbody tr th {\n",
              "        vertical-align: top;\n",
              "    }\n",
              "\n",
              "    .dataframe thead th {\n",
              "        text-align: right;\n",
              "    }\n",
              "</style>\n",
              "<table border=\"1\" class=\"dataframe\">\n",
              "  <thead>\n",
              "    <tr style=\"text-align: right;\">\n",
              "      <th></th>\n",
              "      <th>index</th>\n",
              "      <th>component</th>\n",
              "      <th>count</th>\n",
              "    </tr>\n",
              "  </thead>\n",
              "  <tbody>\n",
              "    <tr>\n",
              "      <th>72</th>\n",
              "      <td>72</td>\n",
              "      <td>দ</td>\n",
              "      <td>5736</td>\n",
              "    </tr>\n",
              "    <tr>\n",
              "      <th>64</th>\n",
              "      <td>64</td>\n",
              "      <td>ত</td>\n",
              "      <td>5596</td>\n",
              "    </tr>\n",
              "    <tr>\n",
              "      <th>13</th>\n",
              "      <td>13</td>\n",
              "      <td>ক</td>\n",
              "      <td>5420</td>\n",
              "    </tr>\n",
              "    <tr>\n",
              "      <th>107</th>\n",
              "      <td>107</td>\n",
              "      <td>ব</td>\n",
              "      <td>5321</td>\n",
              "    </tr>\n",
              "    <tr>\n",
              "      <th>23</th>\n",
              "      <td>23</td>\n",
              "      <td>গ</td>\n",
              "      <td>5149</td>\n",
              "    </tr>\n",
              "    <tr>\n",
              "      <th>96</th>\n",
              "      <td>96</td>\n",
              "      <td>প</td>\n",
              "      <td>4926</td>\n",
              "    </tr>\n",
              "    <tr>\n",
              "      <th>113</th>\n",
              "      <td>113</td>\n",
              "      <td>ভ</td>\n",
              "      <td>4395</td>\n",
              "    </tr>\n",
              "    <tr>\n",
              "      <th>147</th>\n",
              "      <td>147</td>\n",
              "      <td>স</td>\n",
              "      <td>4392</td>\n",
              "    </tr>\n",
              "    <tr>\n",
              "      <th>133</th>\n",
              "      <td>133</td>\n",
              "      <td>শ</td>\n",
              "      <td>4374</td>\n",
              "    </tr>\n",
              "    <tr>\n",
              "      <th>115</th>\n",
              "      <td>115</td>\n",
              "      <td>ম</td>\n",
              "      <td>4015</td>\n",
              "    </tr>\n",
              "  </tbody>\n",
              "</table>\n",
              "</div>"
            ],
            "text/plain": [
              "     index component  count\n",
              "72      72         দ   5736\n",
              "64      64         ত   5596\n",
              "13      13         ক   5420\n",
              "107    107         ব   5321\n",
              "23      23         গ   5149\n",
              "96      96         প   4926\n",
              "113    113         ভ   4395\n",
              "147    147         স   4392\n",
              "133    133         শ   4374\n",
              "115    115         ম   4015"
            ]
          },
          "metadata": {
            "tags": []
          },
          "execution_count": 20
        }
      ]
    },
    {
      "cell_type": "code",
      "metadata": {
        "colab": {
          "base_uri": "https://localhost:8080/",
          "height": 198
        },
        "id": "yc0GHQLbM_ga",
        "outputId": "d5c47cfd-0fcc-4ee6-a001-070c38722d06"
      },
      "source": [
        "top_5_vowel = get_n(dataset,\n",
        "                    'vowel_diacritic', 5)\n",
        "top_5_vowel"
      ],
      "execution_count": null,
      "outputs": [
        {
          "output_type": "execute_result",
          "data": {
            "text/html": [
              "<div>\n",
              "<style scoped>\n",
              "    .dataframe tbody tr th:only-of-type {\n",
              "        vertical-align: middle;\n",
              "    }\n",
              "\n",
              "    .dataframe tbody tr th {\n",
              "        vertical-align: top;\n",
              "    }\n",
              "\n",
              "    .dataframe thead th {\n",
              "        text-align: right;\n",
              "    }\n",
              "</style>\n",
              "<table border=\"1\" class=\"dataframe\">\n",
              "  <thead>\n",
              "    <tr style=\"text-align: right;\">\n",
              "      <th></th>\n",
              "      <th>index</th>\n",
              "      <th>component</th>\n",
              "      <th>count</th>\n",
              "    </tr>\n",
              "  </thead>\n",
              "  <tbody>\n",
              "    <tr>\n",
              "      <th>0</th>\n",
              "      <td>168</td>\n",
              "      <td>0</td>\n",
              "      <td>41508</td>\n",
              "    </tr>\n",
              "    <tr>\n",
              "      <th>1</th>\n",
              "      <td>169</td>\n",
              "      <td>া</td>\n",
              "      <td>36886</td>\n",
              "    </tr>\n",
              "    <tr>\n",
              "      <th>7</th>\n",
              "      <td>175</td>\n",
              "      <td>ে</td>\n",
              "      <td>28723</td>\n",
              "    </tr>\n",
              "    <tr>\n",
              "      <th>2</th>\n",
              "      <td>170</td>\n",
              "      <td>ি</td>\n",
              "      <td>25967</td>\n",
              "    </tr>\n",
              "    <tr>\n",
              "      <th>4</th>\n",
              "      <td>172</td>\n",
              "      <td>ু</td>\n",
              "      <td>18848</td>\n",
              "    </tr>\n",
              "  </tbody>\n",
              "</table>\n",
              "</div>"
            ],
            "text/plain": [
              "   index component  count\n",
              "0    168         0  41508\n",
              "1    169         া  36886\n",
              "7    175         ে  28723\n",
              "2    170         ি  25967\n",
              "4    172         ু  18848"
            ]
          },
          "metadata": {
            "tags": []
          },
          "execution_count": 24
        }
      ]
    },
    {
      "cell_type": "code",
      "metadata": {
        "colab": {
          "base_uri": "https://localhost:8080/",
          "height": 198
        },
        "id": "5RZFLWZLNNru",
        "outputId": "616d84f3-b893-4c69-c820-85cb143f6ce8"
      },
      "source": [
        "top_5_consonants = get_n(dataset, 'consonant_diacritic', 5)\n",
        "top_5_consonants"
      ],
      "execution_count": null,
      "outputs": [
        {
          "output_type": "execute_result",
          "data": {
            "text/html": [
              "<div>\n",
              "<style scoped>\n",
              "    .dataframe tbody tr th:only-of-type {\n",
              "        vertical-align: middle;\n",
              "    }\n",
              "\n",
              "    .dataframe tbody tr th {\n",
              "        vertical-align: top;\n",
              "    }\n",
              "\n",
              "    .dataframe thead th {\n",
              "        text-align: right;\n",
              "    }\n",
              "</style>\n",
              "<table border=\"1\" class=\"dataframe\">\n",
              "  <thead>\n",
              "    <tr style=\"text-align: right;\">\n",
              "      <th></th>\n",
              "      <th>index</th>\n",
              "      <th>component</th>\n",
              "      <th>count</th>\n",
              "    </tr>\n",
              "  </thead>\n",
              "  <tbody>\n",
              "    <tr>\n",
              "      <th>0</th>\n",
              "      <td>179</td>\n",
              "      <td>0</td>\n",
              "      <td>125278</td>\n",
              "    </tr>\n",
              "    <tr>\n",
              "      <th>2</th>\n",
              "      <td>181</td>\n",
              "      <td>র্</td>\n",
              "      <td>23465</td>\n",
              "    </tr>\n",
              "    <tr>\n",
              "      <th>5</th>\n",
              "      <td>184</td>\n",
              "      <td>্র</td>\n",
              "      <td>21397</td>\n",
              "    </tr>\n",
              "    <tr>\n",
              "      <th>4</th>\n",
              "      <td>183</td>\n",
              "      <td>্য</td>\n",
              "      <td>21270</td>\n",
              "    </tr>\n",
              "    <tr>\n",
              "      <th>1</th>\n",
              "      <td>180</td>\n",
              "      <td>ঁ</td>\n",
              "      <td>7424</td>\n",
              "    </tr>\n",
              "  </tbody>\n",
              "</table>\n",
              "</div>"
            ],
            "text/plain": [
              "   index component   count\n",
              "0    179         0  125278\n",
              "2    181        র্   23465\n",
              "5    184        ্র   21397\n",
              "4    183        ্য   21270\n",
              "1    180         ঁ    7424"
            ]
          },
          "metadata": {
            "tags": []
          },
          "execution_count": 28
        }
      ]
    },
    {
      "cell_type": "code",
      "metadata": {
        "colab": {
          "base_uri": "https://localhost:8080/",
          "height": 348
        },
        "id": "8Tnb22RXMbS8",
        "outputId": "2914bf4b-54f2-412b-8a47-52613c5e0a41"
      },
      "source": [
        "bottom_10_roots = get_n(dataset, 'grapheme_root', 10, False)\n",
        "bottom_10_roots"
      ],
      "execution_count": null,
      "outputs": [
        {
          "output_type": "execute_result",
          "data": {
            "text/html": [
              "<div>\n",
              "<style scoped>\n",
              "    .dataframe tbody tr th:only-of-type {\n",
              "        vertical-align: middle;\n",
              "    }\n",
              "\n",
              "    .dataframe tbody tr th {\n",
              "        vertical-align: top;\n",
              "    }\n",
              "\n",
              "    .dataframe thead th {\n",
              "        text-align: right;\n",
              "    }\n",
              "</style>\n",
              "<table border=\"1\" class=\"dataframe\">\n",
              "  <thead>\n",
              "    <tr style=\"text-align: right;\">\n",
              "      <th></th>\n",
              "      <th>index</th>\n",
              "      <th>component</th>\n",
              "      <th>count</th>\n",
              "    </tr>\n",
              "  </thead>\n",
              "  <tbody>\n",
              "    <tr>\n",
              "      <th>73</th>\n",
              "      <td>73</td>\n",
              "      <td>দ্ঘ</td>\n",
              "      <td>130</td>\n",
              "    </tr>\n",
              "    <tr>\n",
              "      <th>33</th>\n",
              "      <td>33</td>\n",
              "      <td>ঙ্ক্ত</td>\n",
              "      <td>136</td>\n",
              "    </tr>\n",
              "    <tr>\n",
              "      <th>102</th>\n",
              "      <td>102</td>\n",
              "      <td>প্স</td>\n",
              "      <td>141</td>\n",
              "    </tr>\n",
              "    <tr>\n",
              "      <th>158</th>\n",
              "      <td>158</td>\n",
              "      <td>স্স</td>\n",
              "      <td>143</td>\n",
              "    </tr>\n",
              "    <tr>\n",
              "      <th>45</th>\n",
              "      <td>45</td>\n",
              "      <td>জ্জ্ব</td>\n",
              "      <td>144</td>\n",
              "    </tr>\n",
              "    <tr>\n",
              "      <th>130</th>\n",
              "      <td>130</td>\n",
              "      <td>ল্ব</td>\n",
              "      <td>144</td>\n",
              "    </tr>\n",
              "    <tr>\n",
              "      <th>1</th>\n",
              "      <td>1</td>\n",
              "      <td>ঃ</td>\n",
              "      <td>145</td>\n",
              "    </tr>\n",
              "    <tr>\n",
              "      <th>12</th>\n",
              "      <td>12</td>\n",
              "      <td>ঔ</td>\n",
              "      <td>146</td>\n",
              "    </tr>\n",
              "    <tr>\n",
              "      <th>0</th>\n",
              "      <td>0</td>\n",
              "      <td>ং</td>\n",
              "      <td>147</td>\n",
              "    </tr>\n",
              "    <tr>\n",
              "      <th>63</th>\n",
              "      <td>63</td>\n",
              "      <td>ণ্ণ</td>\n",
              "      <td>149</td>\n",
              "    </tr>\n",
              "  </tbody>\n",
              "</table>\n",
              "</div>"
            ],
            "text/plain": [
              "     index component  count\n",
              "73      73       দ্ঘ    130\n",
              "33      33     ঙ্ক্ত    136\n",
              "102    102       প্স    141\n",
              "158    158       স্স    143\n",
              "45      45     জ্জ্ব    144\n",
              "130    130       ল্ব    144\n",
              "1        1         ঃ    145\n",
              "12      12         ঔ    146\n",
              "0        0         ং    147\n",
              "63      63       ণ্ণ    149"
            ]
          },
          "metadata": {
            "tags": []
          },
          "execution_count": 23
        }
      ]
    }
  ]
}